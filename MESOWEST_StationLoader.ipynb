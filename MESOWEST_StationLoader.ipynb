{
 "cells": [
  {
   "cell_type": "code",
   "execution_count": 2,
   "metadata": {
    "ExecuteTime": {
     "end_time": "2019-08-01T20:59:11.118635Z",
     "start_time": "2019-08-01T20:59:11.102991Z"
    }
   },
   "outputs": [],
   "source": [
    "import numpy as np\n",
    "import pandas as pd\n",
    "from MesoPy import Meso\n",
    "import datetime as dt\n",
    "from datetime import datetime, timedelta\n",
    "import xarray as xr"
   ]
  },
  {
   "cell_type": "code",
   "execution_count": 3,
   "metadata": {
    "ExecuteTime": {
     "end_time": "2019-08-01T20:59:33.490006Z",
     "start_time": "2019-08-01T20:59:29.926502Z"
    }
   },
   "outputs": [],
   "source": [
    "m = Meso(token = \"b53008fafc7c47fca757eb387d61bded\")\n",
    "StartDate = dt.datetime(2018, 10, 1, 0)\n",
    "EndDate   = dt.datetime(2018, 11, 15, 13)\n",
    "stid= {'CICC1', 'JBGC1','PG131',  'CDEC1', 'PG129','CBXC1', 'HMRC1', 'SLEC1'}\n",
    "for i, value in enumerate(stid,1):\n",
    "    exec(f\"d{i}= m.timeseries(stid=value,start = StartDate.strftime('%Y%m%d%H%M'),end =EndDate.strftime('%Y%m%d%H%M'))\")"
   ]
  },
  {
   "cell_type": "code",
   "execution_count": 4,
   "metadata": {
    "ExecuteTime": {
     "end_time": "2019-08-01T20:59:38.543712Z",
     "start_time": "2019-08-01T20:59:37.887468Z"
    }
   },
   "outputs": [],
   "source": [
    "for i, value in enumerate(stid,1):\n",
    "    exec(f\"ob{i} = d{i}['STATION'][0]\")\n",
    "    exec(f\"timestamps{i} = (ob{i}['OBSERVATIONS']['date_time'])\")\n",
    "    exec(f\"temp{i} = ob{i}['OBSERVATIONS']['air_temp_set_1']\")\n",
    "    exec(f\"wspd{i} = ob{i}['OBSERVATIONS']['wind_speed_set_1']\")\n",
    "    exec(f\"wgst{i} = ob{i}['OBSERVATIONS']['wind_gust_set_1']\")\n",
    "    exec(f\"wdir{i} = ob{i}['OBSERVATIONS']['wind_direction_set_1']\")\n",
    "    exec(f\"rh{i} = ob{i}['OBSERVATIONS']['relative_humidity_set_1']\")\n",
    "    exec(f\"stid{i} = ob{i}['STID']\")\n",
    "    exec(f\"LAT{i} = ob{i}['LATITUDE']\")\n",
    "    exec(f\"LON{i} = ob{i}['LONGITUDE']\")\n",
    "    exec(f\"ELEV{i} = ob{i}['ELEVATION']\")\n",
    "    exec(f\"dates{i} = (datetime.strptime(ts, '%Y-%m-%dT%H:%M:%SZ') for ts in timestamps{i})\")\n",
    "    exec(f\"date_strings{i} = [datetime.strftime(d, '%Y-%m-%dT%H:%M:%SZ') for d in dates{i}]\")\n",
    "    exec(f\"df{value} = pd.DataFrame()\")\n",
    "    exec(f\"df{value}['temp']=temp{i}\")\n",
    "    exec(f\"df{value}['wgst']=wgst{i}\")\n",
    "    exec(f\"df{value}['wspd']=wspd{i}\")\n",
    "    exec(f\"df{value}['wdir']=wdir{i}\")\n",
    "    exec(f\"df{value}['rh']=rh{i}\")\n",
    "    exec(f\"df{value}['stid']=stid{i}\")\n",
    "    exec(f\"df{value}['LAT']=LAT{i}\")\n",
    "    exec(f\"df{value}['LON']=LON{i}\")\n",
    "    exec(f\"df{value}['ELEV']=ELEV{i}\")\n",
    "    exec(f\"df{value}['time'] = date_strings{i}\")\n",
    "    exec(f\"df{value}.index = pd.DatetimeIndex(pd.to_datetime( df{value}.time, format = '%Y-%m-%dT%H:%M:%SZ'))\")\n",
    "    exec(f\"df{value}.time = df{value}.index\")\n",
    "    try:\n",
    "        exec(f\"precip_{i} = ob{i}['OBSERVATIONS']['precip_accum_set_1']\")\n",
    "        exec(f\"df{value}['24p']=precip_{i}\")\n",
    "    except:\n",
    "        exec(f\"df{value}['24p']=np.nan\")\n",
    "    try:\n",
    "        exec(f\"fmc_{i} = ob{i}['OBSERVATIONS']['fuel_moisture_set_1']\")\n",
    "        exec(f\"df{value}['fmc']=fmc_{i}\")\n",
    "    except:\n",
    "        exec(f\"df{value}['fmc']=np.nan\")"
   ]
  },
  {
   "cell_type": "code",
   "execution_count": 5,
   "metadata": {
    "ExecuteTime": {
     "end_time": "2019-08-01T21:01:17.540008Z",
     "start_time": "2019-08-01T21:01:14.235938Z"
    }
   },
   "outputs": [],
   "source": [
    "dsJ = dfJBGC1.to_xarray()\n",
    "dsJ.to_netcdf('jarbo_gap_RAWS.nc')\n",
    "\n",
    "dsO = dfCICC1.to_xarray()\n",
    "dsO.to_netcdf('openshaw_RAWS.nc')\n",
    "\n",
    "dsC = dfCDEC1.to_xarray()\n",
    "dsC.to_netcdf('carpenter_ridge_RAWS.nc')\n",
    "\n",
    "dsS = dfPG131.to_xarray()\n",
    "dsS.to_netcdf('sterling_city_RAWS.nc')\n",
    "\n",
    "ds = dfPG129.to_xarray()\n",
    "ds.to_netcdf('PG129_Red_Hill_Lookout_RAWS.nc')\n",
    "\n",
    "ds = dfCBXC1.to_xarray()\n",
    "ds.to_netcdf('Colby_mtn_RAWS.nc')\n",
    "\n",
    "ds = dfHMRC1.to_xarray()\n",
    "ds.to_netcdf('Humbug_RAWS.nc')\n",
    "\n",
    "ds = dfSLEC1.to_xarray()\n",
    "ds.to_netcdf('Saddleback_RAWS.nc')"
   ]
  }
 ],
 "metadata": {
  "kernelspec": {
   "display_name": "Python 3",
   "language": "python",
   "name": "python3"
  },
  "language_info": {
   "codemirror_mode": {
    "name": "ipython",
    "version": 3
   },
   "file_extension": ".py",
   "mimetype": "text/x-python",
   "name": "python",
   "nbconvert_exporter": "python",
   "pygments_lexer": "ipython3",
   "version": "3.7.6"
  },
  "latex_envs": {
   "LaTeX_envs_menu_present": true,
   "autoclose": false,
   "autocomplete": true,
   "bibliofile": "biblio.bib",
   "cite_by": "apalike",
   "current_citInitial": 1,
   "eqLabelWithNumbers": true,
   "eqNumInitial": 1,
   "hotkeys": {
    "equation": "Ctrl-E",
    "itemize": "Ctrl-I"
   },
   "labels_anchors": false,
   "latex_user_defs": false,
   "report_style_numbering": false,
   "user_envs_cfg": false
  }
 },
 "nbformat": 4,
 "nbformat_minor": 2
}
