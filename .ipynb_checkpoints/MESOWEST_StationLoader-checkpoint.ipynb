{
 "cells": [
  {
   "cell_type": "code",
   "execution_count": 1,
   "metadata": {
    "ExecuteTime": {
     "end_time": "2019-07-01T19:51:37.504600Z",
     "start_time": "2019-07-01T19:51:37.212885Z"
    }
   },
   "outputs": [],
   "source": [
    "import numpy as np\n",
    "import pandas as pd\n",
    "from MesoPy import Meso\n",
    "import datetime as dt\n",
    "from datetime import datetime, timedelta\n",
    "import xarray as xr"
   ]
  },
  {
   "cell_type": "code",
   "execution_count": 11,
   "metadata": {
    "ExecuteTime": {
     "end_time": "2019-07-10T18:46:58.120755Z",
     "start_time": "2019-07-10T18:46:57.426206Z"
    }
   },
   "outputs": [],
   "source": [
    "m = Meso(token = \"b53008fafc7c47fca757eb387d61bded\")\n",
    "StartDate = dt.datetime(2018, 8, 1, 13)\n",
    "EndDate   = dt.datetime(2018, 11, 15, 13)\n",
    "stid= {'CICC1', 'JBGC1','PG131',  'CDEC1', 'PG129','CBXC1', 'HMRC1', 'SLEC1'}\n",
    "for i, value in enumerate(stid,1):\n",
    "    exec(f\"d{i}= m.timeseries(stid=value,start = StartDate.strftime('%Y%m%d%H%M'),end =EndDate.strftime('%Y%m%d%H%M'))\")"
   ]
  },
  {
   "cell_type": "code",
   "execution_count": 12,
   "metadata": {
    "ExecuteTime": {
     "end_time": "2019-07-10T18:46:59.623675Z",
     "start_time": "2019-07-10T18:46:59.346305Z"
    }
   },
   "outputs": [],
   "source": [
    "for i, value in enumerate(stid,1):\n",
    "    exec(f\"ob{i} = d{i}['STATION'][0]\")\n",
    "    exec(f\"timestamps{i} = (ob{i}['OBSERVATIONS']['date_time'])\")\n",
    "    exec(f\"temp{i} = ob{i}['OBSERVATIONS']['air_temp_set_1']\")\n",
    "    exec(f\"wspd{i} = ob{i}['OBSERVATIONS']['wind_speed_set_1']\")\n",
    "    exec(f\"wgst{i} = ob{i}['OBSERVATIONS']['wind_gust_set_1']\")\n",
    "    exec(f\"wdir{i} = ob{i}['OBSERVATIONS']['wind_direction_set_1']\")\n",
    "    exec(f\"rh{i} = ob{i}['OBSERVATIONS']['relative_humidity_set_1']\")\n",
    "    exec(f\"stid{i} = ob{i}['STID']\")\n",
    "    exec(f\"LAT{i} = ob{i}['LATITUDE']\")\n",
    "    exec(f\"LON{i} = ob{i}['LONGITUDE']\")\n",
    "    exec(f\"ELEV{i} = ob{i}['ELEVATION']\")\n",
    "    exec(f\"dates{i} = (datetime.strptime(ts, '%Y-%m-%dT%H:%M:%SZ') for ts in timestamps{i})\")\n",
    "    exec(f\"date_strings{i} = [datetime.strftime(d, '%Y-%m-%dT%H:%M:%SZ') for d in dates{i}]\")\n",
    "    exec(f\"df{value} = pd.DataFrame()\")\n",
    "    exec(f\"df{value}['temp']=temp{i}\")\n",
    "    exec(f\"df{value}['wgst']=wgst{i}\")\n",
    "    exec(f\"df{value}['wspd']=wspd{i}\")\n",
    "    exec(f\"df{value}['wdir']=wdir{i}\")\n",
    "    exec(f\"df{value}['rh']=rh{i}\")\n",
    "    exec(f\"df{value}['stid']=stid{i}\")\n",
    "    exec(f\"df{value}['LAT']=LAT{i}\")\n",
    "    exec(f\"df{value}['LON']=LON{i}\")\n",
    "    exec(f\"df{value}['ELEV']=ELEV{i}\")\n",
    "    exec(f\"df{value}['time'] = date_strings{i}\")\n",
    "    exec(f\"df{value}.index = pd.DatetimeIndex(pd.to_datetime( df{value}.time, format = '%Y-%m-%dT%H:%M:%SZ'))\")\n",
    "    exec(f\"df{value}.time = df{value}.index\")\n",
    "    try:\n",
    "        exec(f\"precip_{i} = ob{i}['OBSERVATIONS']['precip_accum_set_1']\")\n",
    "        exec(f\"df{value}['24p']=precip_{i}\")\n",
    "    except:\n",
    "        exec(f\"df{value}['24p']=np.nan\")\n",
    "    try:\n",
    "        exec(f\"fmc_{i} = ob{i}['OBSERVATIONS']['fuel_moisture_set_1']\")\n",
    "        exec(f\"df{value}['fmc']=fmc_{i}\")\n",
    "    except:\n",
    "        exec(f\"df{value}['fmc']=np.nan\")"
   ]
  },
  {
   "cell_type": "code",
   "execution_count": 16,
   "metadata": {
    "ExecuteTime": {
     "end_time": "2019-07-10T18:48:41.540286Z",
     "start_time": "2019-07-10T18:48:41.212469Z"
    }
   },
   "outputs": [],
   "source": [
    "ds = dfPG129.to_xarray()\n",
    "ds.to_netcdf('PG129_Red_Hill_Lookout_RAWS.nc')"
   ]
  },
  {
   "cell_type": "code",
   "execution_count": 9,
   "metadata": {
    "ExecuteTime": {
     "end_time": "2019-07-01T22:04:24.162074Z",
     "start_time": "2019-07-01T22:04:23.762070Z"
    }
   },
   "outputs": [],
   "source": [
    "dsJ = dfJBGC1.to_xarray()\n",
    "dsJ.to_netcdf('jarbo_gap_RAWS.nc')\n",
    "\n",
    "dsO = dfCICC1.to_xarray()\n",
    "dsO.to_netcdf('openshaw_RAWS.nc')\n",
    "\n",
    "dsC = dfCDEC1.to_xarray()\n",
    "dsC.to_netcdf('carpenter_ridge_RAWS.nc')\n",
    "\n",
    "dsS = dfPG131.to_xarray()\n",
    "dsS.to_netcdf('sterling_city_RAWS.nc')\n",
    "\n",
    "ds = dfPG129.to_xarray()\n",
    "ds.to_netcdf('PG129_Red_Hill_Lookout_RAWS.nc')"
   ]
  },
  {
   "cell_type": "code",
   "execution_count": 6,
   "metadata": {
    "ExecuteTime": {
     "end_time": "2019-07-01T22:01:51.670462Z",
     "start_time": "2019-07-01T22:01:51.665015Z"
    }
   },
   "outputs": [
    {
     "data": {
      "text/plain": [
       "<xarray.DataArray 'time' (time: 2454)>\n",
       "array(['2018-08-01T13:13:00.000000000', '2018-08-01T14:13:00.000000000',\n",
       "       '2018-08-01T15:13:00.000000000', ..., '2018-11-11T17:13:00.000000000',\n",
       "       '2018-11-11T18:13:00.000000000', '2018-11-11T19:13:00.000000000'],\n",
       "      dtype='datetime64[ns]')\n",
       "Coordinates:\n",
       "  * time     (time) datetime64[ns] 2018-08-01T13:13:00 ... 2018-11-11T19:13:00"
      ]
     },
     "execution_count": 6,
     "metadata": {},
     "output_type": "execute_result"
    }
   ],
   "source": [
    "dsJ.time"
   ]
  },
  {
   "cell_type": "code",
   "execution_count": null,
   "metadata": {},
   "outputs": [],
   "source": []
  }
 ],
 "metadata": {
  "kernelspec": {
   "display_name": "Python [conda env:mesowest]",
   "language": "python",
   "name": "conda-env-mesowest-py"
  },
  "language_info": {
   "codemirror_mode": {
    "name": "ipython",
    "version": 3
   },
   "file_extension": ".py",
   "mimetype": "text/x-python",
   "name": "python",
   "nbconvert_exporter": "python",
   "pygments_lexer": "ipython3",
   "version": "3.7.3"
  },
  "latex_envs": {
   "LaTeX_envs_menu_present": true,
   "autoclose": false,
   "autocomplete": true,
   "bibliofile": "biblio.bib",
   "cite_by": "apalike",
   "current_citInitial": 1,
   "eqLabelWithNumbers": true,
   "eqNumInitial": 1,
   "hotkeys": {
    "equation": "Ctrl-E",
    "itemize": "Ctrl-I"
   },
   "labels_anchors": false,
   "latex_user_defs": false,
   "report_style_numbering": false,
   "user_envs_cfg": false
  }
 },
 "nbformat": 4,
 "nbformat_minor": 2
}
